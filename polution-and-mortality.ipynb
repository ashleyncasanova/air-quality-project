{
 "cells": [
  {
   "attachments": {},
   "cell_type": "markdown",
   "metadata": {},
   "source": [
    "### **[Air Pollution Level](https://www.kaggle.com/datasets/totoro29/air-pollution-level)**\n",
    "\n",
    "This dataset is about the level of Air Pollution around the globe. \n",
    "\n",
    "\\\n",
    "The dataset contains 10 columns:\n",
    "\n",
    "* Country Name - It includes the names of the countries.\n",
    "\n",
    "* City - It includes the name of the town.\n",
    "\n",
    "* Year - It includes the year in which data is.\n",
    "\n",
    "* PM2.5 (μg/m3) - The Particulate Matter 2.5 pollution level in micrograms per cubic meter.\n",
    "\n",
    "* PM10 (μg/m3) - The Particulate Matter is 10 levels in microgram per cubic meter.\n",
    "\n",
    "* NO2 (μg/m3) - The Nitrogen Dioxide level in microgram p per cubic meter.\n",
    "\n",
    "* PM2.5 temporal coverage (%) - The Particulate Matter 2.5 pollution level in percentage.\n",
    "\n",
    "* PM10 temporal coverage (%) - The Particulate Matter 10 pollution level in percentage.\n",
    "\n",
    "* NO2 temporal coverage (%)- The Nitrogen Dioxide level in percentage.\n",
    "\n",
    "* Updated Year - Year in which data is updated."
   ]
  },
  {
   "attachments": {},
   "cell_type": "markdown",
   "metadata": {},
   "source": []
  }
 ],
 "metadata": {
  "kernelspec": {
   "display_name": "Python 3",
   "language": "python",
   "name": "python3"
  },
  "language_info": {
   "name": "python",
   "version": "3.9.7"
  },
  "orig_nbformat": 4,
  "vscode": {
   "interpreter": {
    "hash": "aee8b7b246df8f9039afb4144a1f6fd8d2ca17a180786b69acc140d282b71a49"
   }
  }
 },
 "nbformat": 4,
 "nbformat_minor": 2
}
