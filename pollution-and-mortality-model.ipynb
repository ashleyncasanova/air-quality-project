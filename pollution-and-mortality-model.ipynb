{
 "cells": [
  {
   "cell_type": "markdown",
   "metadata": {},
   "source": [
    "### 1. Get data ready"
   ]
  },
  {
   "cell_type": "code",
   "execution_count": 21,
   "metadata": {},
   "outputs": [],
   "source": [
    "import pandas as pd\n",
    "import numpy as np"
   ]
  },
  {
   "cell_type": "code",
   "execution_count": 2,
   "metadata": {},
   "outputs": [
    {
     "data": {
      "text/html": [
       "<div>\n",
       "<style scoped>\n",
       "    .dataframe tbody tr th:only-of-type {\n",
       "        vertical-align: middle;\n",
       "    }\n",
       "\n",
       "    .dataframe tbody tr th {\n",
       "        vertical-align: top;\n",
       "    }\n",
       "\n",
       "    .dataframe thead th {\n",
       "        text-align: right;\n",
       "    }\n",
       "</style>\n",
       "<table border=\"1\" class=\"dataframe\">\n",
       "  <thead>\n",
       "    <tr style=\"text-align: right;\">\n",
       "      <th></th>\n",
       "      <th>Country</th>\n",
       "      <th>Year</th>\n",
       "      <th>PM2.5</th>\n",
       "      <th>PM10</th>\n",
       "      <th>TotalDeaths</th>\n",
       "      <th>PMDeaths</th>\n",
       "      <th>CitiesCount</th>\n",
       "    </tr>\n",
       "  </thead>\n",
       "  <tbody>\n",
       "    <tr>\n",
       "      <th>0</th>\n",
       "      <td>Albania</td>\n",
       "      <td>2015</td>\n",
       "      <td>21.790000</td>\n",
       "      <td>32.415000</td>\n",
       "      <td>42.299773</td>\n",
       "      <td>21.786089</td>\n",
       "      <td>2</td>\n",
       "    </tr>\n",
       "    <tr>\n",
       "      <th>1</th>\n",
       "      <td>Albania</td>\n",
       "      <td>2016</td>\n",
       "      <td>21.480000</td>\n",
       "      <td>32.385000</td>\n",
       "      <td>41.018788</td>\n",
       "      <td>20.810664</td>\n",
       "      <td>2</td>\n",
       "    </tr>\n",
       "    <tr>\n",
       "      <th>2</th>\n",
       "      <td>Argentina</td>\n",
       "      <td>2015</td>\n",
       "      <td>10.260000</td>\n",
       "      <td>27.870000</td>\n",
       "      <td>33.086924</td>\n",
       "      <td>29.159094</td>\n",
       "      <td>1</td>\n",
       "    </tr>\n",
       "    <tr>\n",
       "      <th>3</th>\n",
       "      <td>Australia</td>\n",
       "      <td>2010</td>\n",
       "      <td>8.040000</td>\n",
       "      <td>15.323333</td>\n",
       "      <td>13.571713</td>\n",
       "      <td>13.140380</td>\n",
       "      <td>3</td>\n",
       "    </tr>\n",
       "    <tr>\n",
       "      <th>4</th>\n",
       "      <td>Australia</td>\n",
       "      <td>2011</td>\n",
       "      <td>7.316667</td>\n",
       "      <td>14.443333</td>\n",
       "      <td>13.727626</td>\n",
       "      <td>13.276676</td>\n",
       "      <td>3</td>\n",
       "    </tr>\n",
       "  </tbody>\n",
       "</table>\n",
       "</div>"
      ],
      "text/plain": [
       "     Country  Year      PM2.5       PM10  TotalDeaths   PMDeaths  CitiesCount\n",
       "0    Albania  2015  21.790000  32.415000    42.299773  21.786089            2\n",
       "1    Albania  2016  21.480000  32.385000    41.018788  20.810664            2\n",
       "2  Argentina  2015  10.260000  27.870000    33.086924  29.159094            1\n",
       "3  Australia  2010   8.040000  15.323333    13.571713  13.140380            3\n",
       "4  Australia  2011   7.316667  14.443333    13.727626  13.276676            3"
      ]
     },
     "execution_count": 2,
     "metadata": {},
     "output_type": "execute_result"
    }
   ],
   "source": [
    "data = pd.read_csv(\"pollution-and-mortality.csv\")\n",
    "data.head()"
   ]
  },
  {
   "cell_type": "code",
   "execution_count": 3,
   "metadata": {},
   "outputs": [
    {
     "name": "stdout",
     "output_type": "stream",
     "text": [
      "<class 'pandas.core.frame.DataFrame'>\n",
      "RangeIndex: 333 entries, 0 to 332\n",
      "Data columns (total 7 columns):\n",
      " #   Column       Non-Null Count  Dtype  \n",
      "---  ------       --------------  -----  \n",
      " 0   Country      333 non-null    object \n",
      " 1   Year         333 non-null    int64  \n",
      " 2   PM2.5        333 non-null    float64\n",
      " 3   PM10         333 non-null    float64\n",
      " 4   TotalDeaths  333 non-null    float64\n",
      " 5   PMDeaths     333 non-null    float64\n",
      " 6   CitiesCount  333 non-null    int64  \n",
      "dtypes: float64(4), int64(2), object(1)\n",
      "memory usage: 18.3+ KB\n"
     ]
    }
   ],
   "source": [
    "data.info()"
   ]
  },
  {
   "cell_type": "code",
   "execution_count": 4,
   "metadata": {},
   "outputs": [
    {
     "data": {
      "text/html": [
       "<div>\n",
       "<style scoped>\n",
       "    .dataframe tbody tr th:only-of-type {\n",
       "        vertical-align: middle;\n",
       "    }\n",
       "\n",
       "    .dataframe tbody tr th {\n",
       "        vertical-align: top;\n",
       "    }\n",
       "\n",
       "    .dataframe thead th {\n",
       "        text-align: right;\n",
       "    }\n",
       "</style>\n",
       "<table border=\"1\" class=\"dataframe\">\n",
       "  <thead>\n",
       "    <tr style=\"text-align: right;\">\n",
       "      <th></th>\n",
       "      <th>Year</th>\n",
       "      <th>PM2.5</th>\n",
       "      <th>PM10</th>\n",
       "      <th>TotalDeaths</th>\n",
       "      <th>PMDeaths</th>\n",
       "      <th>CitiesCount</th>\n",
       "    </tr>\n",
       "  </thead>\n",
       "  <tbody>\n",
       "    <tr>\n",
       "      <th>count</th>\n",
       "      <td>333.000000</td>\n",
       "      <td>333.000000</td>\n",
       "      <td>333.000000</td>\n",
       "      <td>333.000000</td>\n",
       "      <td>333.000000</td>\n",
       "      <td>333.000000</td>\n",
       "    </tr>\n",
       "    <tr>\n",
       "      <th>mean</th>\n",
       "      <td>2014.180180</td>\n",
       "      <td>23.141074</td>\n",
       "      <td>45.414597</td>\n",
       "      <td>39.023378</td>\n",
       "      <td>26.177802</td>\n",
       "      <td>16.471471</td>\n",
       "    </tr>\n",
       "    <tr>\n",
       "      <th>std</th>\n",
       "      <td>2.196101</td>\n",
       "      <td>21.263261</td>\n",
       "      <td>46.694763</td>\n",
       "      <td>31.218198</td>\n",
       "      <td>14.313898</td>\n",
       "      <td>29.233531</td>\n",
       "    </tr>\n",
       "    <tr>\n",
       "      <th>min</th>\n",
       "      <td>2010.000000</td>\n",
       "      <td>4.578462</td>\n",
       "      <td>6.030000</td>\n",
       "      <td>8.401696</td>\n",
       "      <td>7.544358</td>\n",
       "      <td>1.000000</td>\n",
       "    </tr>\n",
       "    <tr>\n",
       "      <th>25%</th>\n",
       "      <td>2013.000000</td>\n",
       "      <td>11.256667</td>\n",
       "      <td>19.126667</td>\n",
       "      <td>18.114643</td>\n",
       "      <td>16.033366</td>\n",
       "      <td>2.000000</td>\n",
       "    </tr>\n",
       "    <tr>\n",
       "      <th>50%</th>\n",
       "      <td>2014.000000</td>\n",
       "      <td>16.460000</td>\n",
       "      <td>27.862500</td>\n",
       "      <td>28.047017</td>\n",
       "      <td>22.430605</td>\n",
       "      <td>5.000000</td>\n",
       "    </tr>\n",
       "    <tr>\n",
       "      <th>75%</th>\n",
       "      <td>2016.000000</td>\n",
       "      <td>25.000000</td>\n",
       "      <td>51.300000</td>\n",
       "      <td>46.775579</td>\n",
       "      <td>33.505289</td>\n",
       "      <td>14.000000</td>\n",
       "    </tr>\n",
       "    <tr>\n",
       "      <th>max</th>\n",
       "      <td>2017.000000</td>\n",
       "      <td>132.000000</td>\n",
       "      <td>395.333333</td>\n",
       "      <td>160.587443</td>\n",
       "      <td>73.723273</td>\n",
       "      <td>197.000000</td>\n",
       "    </tr>\n",
       "  </tbody>\n",
       "</table>\n",
       "</div>"
      ],
      "text/plain": [
       "              Year       PM2.5        PM10  TotalDeaths    PMDeaths  \\\n",
       "count   333.000000  333.000000  333.000000   333.000000  333.000000   \n",
       "mean   2014.180180   23.141074   45.414597    39.023378   26.177802   \n",
       "std       2.196101   21.263261   46.694763    31.218198   14.313898   \n",
       "min    2010.000000    4.578462    6.030000     8.401696    7.544358   \n",
       "25%    2013.000000   11.256667   19.126667    18.114643   16.033366   \n",
       "50%    2014.000000   16.460000   27.862500    28.047017   22.430605   \n",
       "75%    2016.000000   25.000000   51.300000    46.775579   33.505289   \n",
       "max    2017.000000  132.000000  395.333333   160.587443   73.723273   \n",
       "\n",
       "       CitiesCount  \n",
       "count   333.000000  \n",
       "mean     16.471471  \n",
       "std      29.233531  \n",
       "min       1.000000  \n",
       "25%       2.000000  \n",
       "50%       5.000000  \n",
       "75%      14.000000  \n",
       "max     197.000000  "
      ]
     },
     "execution_count": 4,
     "metadata": {},
     "output_type": "execute_result"
    }
   ],
   "source": [
    "data.describe()"
   ]
  },
  {
   "cell_type": "code",
   "execution_count": 5,
   "metadata": {},
   "outputs": [],
   "source": [
    "# Let's try to create a model that can predict the number of PMDeaths given the dataset above...\n",
    "X = data.drop('PMDeaths', axis=1)\n",
    "y = data['PMDeaths']"
   ]
  },
  {
   "cell_type": "code",
   "execution_count": 6,
   "metadata": {},
   "outputs": [
    {
     "data": {
      "text/html": [
       "<div>\n",
       "<style scoped>\n",
       "    .dataframe tbody tr th:only-of-type {\n",
       "        vertical-align: middle;\n",
       "    }\n",
       "\n",
       "    .dataframe tbody tr th {\n",
       "        vertical-align: top;\n",
       "    }\n",
       "\n",
       "    .dataframe thead th {\n",
       "        text-align: right;\n",
       "    }\n",
       "</style>\n",
       "<table border=\"1\" class=\"dataframe\">\n",
       "  <thead>\n",
       "    <tr style=\"text-align: right;\">\n",
       "      <th></th>\n",
       "      <th>Country</th>\n",
       "      <th>Year</th>\n",
       "      <th>PM2.5</th>\n",
       "      <th>PM10</th>\n",
       "      <th>TotalDeaths</th>\n",
       "      <th>CitiesCount</th>\n",
       "    </tr>\n",
       "  </thead>\n",
       "  <tbody>\n",
       "    <tr>\n",
       "      <th>0</th>\n",
       "      <td>Albania</td>\n",
       "      <td>2015</td>\n",
       "      <td>21.79</td>\n",
       "      <td>32.415</td>\n",
       "      <td>42.299773</td>\n",
       "      <td>2</td>\n",
       "    </tr>\n",
       "    <tr>\n",
       "      <th>1</th>\n",
       "      <td>Albania</td>\n",
       "      <td>2016</td>\n",
       "      <td>21.48</td>\n",
       "      <td>32.385</td>\n",
       "      <td>41.018788</td>\n",
       "      <td>2</td>\n",
       "    </tr>\n",
       "    <tr>\n",
       "      <th>2</th>\n",
       "      <td>Argentina</td>\n",
       "      <td>2015</td>\n",
       "      <td>10.26</td>\n",
       "      <td>27.870</td>\n",
       "      <td>33.086924</td>\n",
       "      <td>1</td>\n",
       "    </tr>\n",
       "  </tbody>\n",
       "</table>\n",
       "</div>"
      ],
      "text/plain": [
       "     Country  Year  PM2.5    PM10  TotalDeaths  CitiesCount\n",
       "0    Albania  2015  21.79  32.415    42.299773            2\n",
       "1    Albania  2016  21.48  32.385    41.018788            2\n",
       "2  Argentina  2015  10.26  27.870    33.086924            1"
      ]
     },
     "execution_count": 6,
     "metadata": {},
     "output_type": "execute_result"
    }
   ],
   "source": [
    "X.head(3)"
   ]
  },
  {
   "cell_type": "code",
   "execution_count": 7,
   "metadata": {},
   "outputs": [
    {
     "data": {
      "text/plain": [
       "0    21.786089\n",
       "1    20.810664\n",
       "2    29.159094\n",
       "Name: PMDeaths, dtype: float64"
      ]
     },
     "execution_count": 7,
     "metadata": {},
     "output_type": "execute_result"
    }
   ],
   "source": [
    "y.head(3)"
   ]
  },
  {
   "cell_type": "code",
   "execution_count": 8,
   "metadata": {},
   "outputs": [],
   "source": [
    "# Country, Year and CitiesCount are all categorical and should be converted to numerical form...\n",
    "# data['Year'].value_counts(), data['CitiesCount'].value_counts()"
   ]
  },
  {
   "cell_type": "code",
   "execution_count": 9,
   "metadata": {},
   "outputs": [
    {
     "data": {
      "text/html": [
       "<div>\n",
       "<style scoped>\n",
       "    .dataframe tbody tr th:only-of-type {\n",
       "        vertical-align: middle;\n",
       "    }\n",
       "\n",
       "    .dataframe tbody tr th {\n",
       "        vertical-align: top;\n",
       "    }\n",
       "\n",
       "    .dataframe thead th {\n",
       "        text-align: right;\n",
       "    }\n",
       "</style>\n",
       "<table border=\"1\" class=\"dataframe\">\n",
       "  <thead>\n",
       "    <tr style=\"text-align: right;\">\n",
       "      <th></th>\n",
       "      <th>0</th>\n",
       "    </tr>\n",
       "  </thead>\n",
       "  <tbody>\n",
       "    <tr>\n",
       "      <th>0</th>\n",
       "      <td>(0, 0)\\t1.0\\n  (0, 79)\\t1.0\\n  (0, 83)\\t1.0\\...</td>\n",
       "    </tr>\n",
       "    <tr>\n",
       "      <th>1</th>\n",
       "      <td>(0, 0)\\t1.0\\n  (0, 80)\\t1.0\\n  (0, 83)\\t1.0\\...</td>\n",
       "    </tr>\n",
       "    <tr>\n",
       "      <th>2</th>\n",
       "      <td>(0, 1)\\t1.0\\n  (0, 79)\\t1.0\\n  (0, 82)\\t1.0\\...</td>\n",
       "    </tr>\n",
       "    <tr>\n",
       "      <th>3</th>\n",
       "      <td>(0, 2)\\t1.0\\n  (0, 74)\\t1.0\\n  (0, 84)\\t1.0\\...</td>\n",
       "    </tr>\n",
       "    <tr>\n",
       "      <th>4</th>\n",
       "      <td>(0, 2)\\t1.0\\n  (0, 75)\\t1.0\\n  (0, 84)\\t1.0\\...</td>\n",
       "    </tr>\n",
       "    <tr>\n",
       "      <th>...</th>\n",
       "      <td>...</td>\n",
       "    </tr>\n",
       "    <tr>\n",
       "      <th>328</th>\n",
       "      <td>(0, 72)\\t1.0\\n  (0, 78)\\t1.0\\n  (0, 115)\\t1....</td>\n",
       "    </tr>\n",
       "    <tr>\n",
       "      <th>329</th>\n",
       "      <td>(0, 72)\\t1.0\\n  (0, 79)\\t1.0\\n  (0, 118)\\t1....</td>\n",
       "    </tr>\n",
       "    <tr>\n",
       "      <th>330</th>\n",
       "      <td>(0, 72)\\t1.0\\n  (0, 80)\\t1.0\\n  (0, 115)\\t1....</td>\n",
       "    </tr>\n",
       "    <tr>\n",
       "      <th>331</th>\n",
       "      <td>(0, 72)\\t1.0\\n  (0, 81)\\t1.0\\n  (0, 117)\\t1....</td>\n",
       "    </tr>\n",
       "    <tr>\n",
       "      <th>332</th>\n",
       "      <td>(0, 73)\\t1.0\\n  (0, 78)\\t1.0\\n  (0, 82)\\t1.0...</td>\n",
       "    </tr>\n",
       "  </tbody>\n",
       "</table>\n",
       "<p>333 rows × 1 columns</p>\n",
       "</div>"
      ],
      "text/plain": [
       "                                                     0\n",
       "0      (0, 0)\\t1.0\\n  (0, 79)\\t1.0\\n  (0, 83)\\t1.0\\...\n",
       "1      (0, 0)\\t1.0\\n  (0, 80)\\t1.0\\n  (0, 83)\\t1.0\\...\n",
       "2      (0, 1)\\t1.0\\n  (0, 79)\\t1.0\\n  (0, 82)\\t1.0\\...\n",
       "3      (0, 2)\\t1.0\\n  (0, 74)\\t1.0\\n  (0, 84)\\t1.0\\...\n",
       "4      (0, 2)\\t1.0\\n  (0, 75)\\t1.0\\n  (0, 84)\\t1.0\\...\n",
       "..                                                 ...\n",
       "328    (0, 72)\\t1.0\\n  (0, 78)\\t1.0\\n  (0, 115)\\t1....\n",
       "329    (0, 72)\\t1.0\\n  (0, 79)\\t1.0\\n  (0, 118)\\t1....\n",
       "330    (0, 72)\\t1.0\\n  (0, 80)\\t1.0\\n  (0, 115)\\t1....\n",
       "331    (0, 72)\\t1.0\\n  (0, 81)\\t1.0\\n  (0, 117)\\t1....\n",
       "332    (0, 73)\\t1.0\\n  (0, 78)\\t1.0\\n  (0, 82)\\t1.0...\n",
       "\n",
       "[333 rows x 1 columns]"
      ]
     },
     "execution_count": 9,
     "metadata": {},
     "output_type": "execute_result"
    }
   ],
   "source": [
    "# Turn categories into numbers\n",
    "from sklearn.preprocessing import OneHotEncoder\n",
    "from sklearn.compose import ColumnTransformer\n",
    "\n",
    "categorical_features = ['Country', 'Year', 'CitiesCount']\n",
    "one_hot = OneHotEncoder()\n",
    "transformer = ColumnTransformer([('one_hot',\n",
    "                                  one_hot,\n",
    "                                  categorical_features)],\n",
    "                                  remainder='passthrough')\n",
    "transformed_X = transformer.fit_transform(X)\n",
    "pd.DataFrame(transformed_X)"
   ]
  },
  {
   "cell_type": "code",
   "execution_count": 10,
   "metadata": {},
   "outputs": [
    {
     "data": {
      "text/html": [
       "<div>\n",
       "<style scoped>\n",
       "    .dataframe tbody tr th:only-of-type {\n",
       "        vertical-align: middle;\n",
       "    }\n",
       "\n",
       "    .dataframe tbody tr th {\n",
       "        vertical-align: top;\n",
       "    }\n",
       "\n",
       "    .dataframe thead th {\n",
       "        text-align: right;\n",
       "    }\n",
       "</style>\n",
       "<table border=\"1\" class=\"dataframe\">\n",
       "  <thead>\n",
       "    <tr style=\"text-align: right;\">\n",
       "      <th></th>\n",
       "      <th>Year</th>\n",
       "      <th>CitiesCount</th>\n",
       "      <th>Country_Albania</th>\n",
       "      <th>Country_Argentina</th>\n",
       "      <th>Country_Australia</th>\n",
       "      <th>Country_Austria</th>\n",
       "      <th>Country_Bahrain</th>\n",
       "      <th>Country_Bangladesh</th>\n",
       "      <th>Country_Belgium</th>\n",
       "      <th>Country_Bosnia and Herzegovina</th>\n",
       "      <th>...</th>\n",
       "      <th>Country_Spain</th>\n",
       "      <th>Country_Sweden</th>\n",
       "      <th>Country_Switzerland</th>\n",
       "      <th>Country_Thailand</th>\n",
       "      <th>Country_Trinidad and Tobago</th>\n",
       "      <th>Country_Turkey</th>\n",
       "      <th>Country_Uganda</th>\n",
       "      <th>Country_United Arab Emirates</th>\n",
       "      <th>Country_United Kingdom</th>\n",
       "      <th>Country_Uruguay</th>\n",
       "    </tr>\n",
       "  </thead>\n",
       "  <tbody>\n",
       "    <tr>\n",
       "      <th>0</th>\n",
       "      <td>2015</td>\n",
       "      <td>2</td>\n",
       "      <td>1</td>\n",
       "      <td>0</td>\n",
       "      <td>0</td>\n",
       "      <td>0</td>\n",
       "      <td>0</td>\n",
       "      <td>0</td>\n",
       "      <td>0</td>\n",
       "      <td>0</td>\n",
       "      <td>...</td>\n",
       "      <td>0</td>\n",
       "      <td>0</td>\n",
       "      <td>0</td>\n",
       "      <td>0</td>\n",
       "      <td>0</td>\n",
       "      <td>0</td>\n",
       "      <td>0</td>\n",
       "      <td>0</td>\n",
       "      <td>0</td>\n",
       "      <td>0</td>\n",
       "    </tr>\n",
       "    <tr>\n",
       "      <th>1</th>\n",
       "      <td>2016</td>\n",
       "      <td>2</td>\n",
       "      <td>1</td>\n",
       "      <td>0</td>\n",
       "      <td>0</td>\n",
       "      <td>0</td>\n",
       "      <td>0</td>\n",
       "      <td>0</td>\n",
       "      <td>0</td>\n",
       "      <td>0</td>\n",
       "      <td>...</td>\n",
       "      <td>0</td>\n",
       "      <td>0</td>\n",
       "      <td>0</td>\n",
       "      <td>0</td>\n",
       "      <td>0</td>\n",
       "      <td>0</td>\n",
       "      <td>0</td>\n",
       "      <td>0</td>\n",
       "      <td>0</td>\n",
       "      <td>0</td>\n",
       "    </tr>\n",
       "    <tr>\n",
       "      <th>2</th>\n",
       "      <td>2015</td>\n",
       "      <td>1</td>\n",
       "      <td>0</td>\n",
       "      <td>1</td>\n",
       "      <td>0</td>\n",
       "      <td>0</td>\n",
       "      <td>0</td>\n",
       "      <td>0</td>\n",
       "      <td>0</td>\n",
       "      <td>0</td>\n",
       "      <td>...</td>\n",
       "      <td>0</td>\n",
       "      <td>0</td>\n",
       "      <td>0</td>\n",
       "      <td>0</td>\n",
       "      <td>0</td>\n",
       "      <td>0</td>\n",
       "      <td>0</td>\n",
       "      <td>0</td>\n",
       "      <td>0</td>\n",
       "      <td>0</td>\n",
       "    </tr>\n",
       "    <tr>\n",
       "      <th>3</th>\n",
       "      <td>2010</td>\n",
       "      <td>3</td>\n",
       "      <td>0</td>\n",
       "      <td>0</td>\n",
       "      <td>1</td>\n",
       "      <td>0</td>\n",
       "      <td>0</td>\n",
       "      <td>0</td>\n",
       "      <td>0</td>\n",
       "      <td>0</td>\n",
       "      <td>...</td>\n",
       "      <td>0</td>\n",
       "      <td>0</td>\n",
       "      <td>0</td>\n",
       "      <td>0</td>\n",
       "      <td>0</td>\n",
       "      <td>0</td>\n",
       "      <td>0</td>\n",
       "      <td>0</td>\n",
       "      <td>0</td>\n",
       "      <td>0</td>\n",
       "    </tr>\n",
       "    <tr>\n",
       "      <th>4</th>\n",
       "      <td>2011</td>\n",
       "      <td>3</td>\n",
       "      <td>0</td>\n",
       "      <td>0</td>\n",
       "      <td>1</td>\n",
       "      <td>0</td>\n",
       "      <td>0</td>\n",
       "      <td>0</td>\n",
       "      <td>0</td>\n",
       "      <td>0</td>\n",
       "      <td>...</td>\n",
       "      <td>0</td>\n",
       "      <td>0</td>\n",
       "      <td>0</td>\n",
       "      <td>0</td>\n",
       "      <td>0</td>\n",
       "      <td>0</td>\n",
       "      <td>0</td>\n",
       "      <td>0</td>\n",
       "      <td>0</td>\n",
       "      <td>0</td>\n",
       "    </tr>\n",
       "  </tbody>\n",
       "</table>\n",
       "<p>5 rows × 76 columns</p>\n",
       "</div>"
      ],
      "text/plain": [
       "   Year  CitiesCount  Country_Albania  Country_Argentina  Country_Australia  \\\n",
       "0  2015            2                1                  0                  0   \n",
       "1  2016            2                1                  0                  0   \n",
       "2  2015            1                0                  1                  0   \n",
       "3  2010            3                0                  0                  1   \n",
       "4  2011            3                0                  0                  1   \n",
       "\n",
       "   Country_Austria  Country_Bahrain  Country_Bangladesh  Country_Belgium  \\\n",
       "0                0                0                   0                0   \n",
       "1                0                0                   0                0   \n",
       "2                0                0                   0                0   \n",
       "3                0                0                   0                0   \n",
       "4                0                0                   0                0   \n",
       "\n",
       "   Country_Bosnia and Herzegovina  ...  Country_Spain  Country_Sweden  \\\n",
       "0                               0  ...              0               0   \n",
       "1                               0  ...              0               0   \n",
       "2                               0  ...              0               0   \n",
       "3                               0  ...              0               0   \n",
       "4                               0  ...              0               0   \n",
       "\n",
       "   Country_Switzerland  Country_Thailand  Country_Trinidad and Tobago  \\\n",
       "0                    0                 0                            0   \n",
       "1                    0                 0                            0   \n",
       "2                    0                 0                            0   \n",
       "3                    0                 0                            0   \n",
       "4                    0                 0                            0   \n",
       "\n",
       "   Country_Turkey  Country_Uganda  Country_United Arab Emirates  \\\n",
       "0               0               0                             0   \n",
       "1               0               0                             0   \n",
       "2               0               0                             0   \n",
       "3               0               0                             0   \n",
       "4               0               0                             0   \n",
       "\n",
       "   Country_United Kingdom  Country_Uruguay  \n",
       "0                       0                0  \n",
       "1                       0                0  \n",
       "2                       0                0  \n",
       "3                       0                0  \n",
       "4                       0                0  \n",
       "\n",
       "[5 rows x 76 columns]"
      ]
     },
     "execution_count": 10,
     "metadata": {},
     "output_type": "execute_result"
    }
   ],
   "source": [
    "dummies = pd.get_dummies(data[['Country', 'Year', 'CitiesCount']])\n",
    "dummies.head()"
   ]
  },
  {
   "cell_type": "markdown",
   "metadata": {},
   "source": [
    "### 2. Choose model"
   ]
  },
  {
   "cell_type": "code",
   "execution_count": 11,
   "metadata": {},
   "outputs": [
    {
     "data": {
      "text/plain": [
       "{'bootstrap': True,\n",
       " 'ccp_alpha': 0.0,\n",
       " 'criterion': 'mse',\n",
       " 'max_depth': None,\n",
       " 'max_features': 'auto',\n",
       " 'max_leaf_nodes': None,\n",
       " 'max_samples': None,\n",
       " 'min_impurity_decrease': 0.0,\n",
       " 'min_impurity_split': None,\n",
       " 'min_samples_leaf': 1,\n",
       " 'min_samples_split': 2,\n",
       " 'min_weight_fraction_leaf': 0.0,\n",
       " 'n_estimators': 100,\n",
       " 'n_jobs': None,\n",
       " 'oob_score': False,\n",
       " 'random_state': None,\n",
       " 'verbose': 0,\n",
       " 'warm_start': False}"
      ]
     },
     "execution_count": 11,
     "metadata": {},
     "output_type": "execute_result"
    }
   ],
   "source": [
    "from sklearn.ensemble import RandomForestRegressor\n",
    "model = RandomForestRegressor()\n",
    "\n",
    "model.get_params()"
   ]
  },
  {
   "cell_type": "markdown",
   "metadata": {},
   "source": [
    "### 3. Fit model to training data"
   ]
  },
  {
   "cell_type": "code",
   "execution_count": 23,
   "metadata": {},
   "outputs": [
    {
     "data": {
      "text/plain": [
       "0.9100855054609152"
      ]
     },
     "execution_count": 23,
     "metadata": {},
     "output_type": "execute_result"
    }
   ],
   "source": [
    "np.random.seed(42)\n",
    "from sklearn.model_selection import train_test_split\n",
    "X_train, X_test, y_train, y_test = train_test_split(transformed_X, y, test_size=0.2)\n",
    "model.fit(X_train, y_train)\n",
    "model.score(X_test, y_test)"
   ]
  },
  {
   "cell_type": "markdown",
   "metadata": {},
   "source": [
    "### 4. Evaluate model"
   ]
  },
  {
   "cell_type": "code",
   "execution_count": 25,
   "metadata": {},
   "outputs": [
    {
     "data": {
      "text/plain": [
       "array([48.12327653,  8.61286038, 29.54983865, 21.38650704, 20.51505876,\n",
       "       45.11865002, 32.95165836, 33.04767513, 48.05651008, 34.48175607,\n",
       "       28.05255604,  9.29611374, 28.89913865, 17.87244066, 31.11017124,\n",
       "       43.70797235, 13.36365683, 60.84293661, 29.06489327, 35.93475216,\n",
       "        8.65881876, 30.94005129, 11.53333203, 32.28712084, 11.26474787,\n",
       "        8.7348445 , 54.89081151, 33.50792415, 34.77930764, 33.97679699,\n",
       "       30.48647282, 13.30483733, 20.37468108, 28.80153813, 42.4043403 ,\n",
       "       18.25684822, 30.90254219, 31.04792983, 42.61967601, 10.8627882 ,\n",
       "       37.32291884, 41.3310097 , 29.01111618, 30.70800494,  7.89821163,\n",
       "       29.88961635, 28.61616482, 43.03607006, 23.69585882, 12.70063902,\n",
       "       32.12437312, 12.65679485, 16.40691378, 15.80177862, 11.16583986,\n",
       "       37.55820393, 10.27152063, 22.08818606, 16.42875616, 33.43323107,\n",
       "       47.02152752, 11.66928281, 35.81075125, 12.61986477, 25.10199953,\n",
       "        8.49304346, 49.26936085])"
      ]
     },
     "execution_count": 25,
     "metadata": {},
     "output_type": "execute_result"
    }
   ],
   "source": [
    "y_preds = model.predict(X_test)\n",
    "y_preds"
   ]
  },
  {
   "cell_type": "code",
   "execution_count": 27,
   "metadata": {},
   "outputs": [
    {
     "data": {
      "text/plain": [
       "0.9770746635492066"
      ]
     },
     "execution_count": 27,
     "metadata": {},
     "output_type": "execute_result"
    }
   ],
   "source": [
    "model.score(X_train, y_train)"
   ]
  },
  {
   "cell_type": "code",
   "execution_count": 29,
   "metadata": {},
   "outputs": [
    {
     "data": {
      "text/plain": [
       "0.9100855054609152"
      ]
     },
     "execution_count": 29,
     "metadata": {},
     "output_type": "execute_result"
    }
   ],
   "source": [
    "model.score(X_test, y_test)"
   ]
  },
  {
   "cell_type": "markdown",
   "metadata": {},
   "source": [
    "### 5. Improve model"
   ]
  },
  {
   "cell_type": "code",
   "execution_count": 35,
   "metadata": {},
   "outputs": [
    {
     "name": "stdout",
     "output_type": "stream",
     "text": [
      "Trying model with 10 estimators...\n",
      "Coefficent of determination R^2 of the models prediction: 0.9007\n",
      "\n",
      "Trying model with 20 estimators...\n",
      "Coefficent of determination R^2 of the models prediction: 0.8900\n",
      "\n",
      "Trying model with 30 estimators...\n",
      "Coefficent of determination R^2 of the models prediction: 0.9013\n",
      "\n",
      "Trying model with 40 estimators...\n",
      "Coefficent of determination R^2 of the models prediction: 0.8986\n",
      "\n",
      "Trying model with 50 estimators...\n",
      "Coefficent of determination R^2 of the models prediction: 0.9059\n",
      "\n",
      "Trying model with 60 estimators...\n",
      "Coefficent of determination R^2 of the models prediction: 0.9056\n",
      "\n",
      "Trying model with 70 estimators...\n",
      "Coefficent of determination R^2 of the models prediction: 0.9093\n",
      "\n",
      "Trying model with 80 estimators...\n",
      "Coefficent of determination R^2 of the models prediction: 0.9060\n",
      "\n",
      "Trying model with 90 estimators...\n",
      "Coefficent of determination R^2 of the models prediction: 0.9089\n",
      "\n"
     ]
    }
   ],
   "source": [
    "np.random.seed(42)\n",
    "for i in range(10, 100, 10):\n",
    "    print(f'Trying model with {i} estimators...')\n",
    "    model = RandomForestRegressor(n_estimators=i).fit(X_train, y_train)\n",
    "    print(f'Coefficent of determination R^2 of the models prediction: {model.score(X_test, y_test):.4f}')\n",
    "    print('')"
   ]
  },
  {
   "cell_type": "code",
   "execution_count": null,
   "metadata": {},
   "outputs": [],
   "source": []
  }
 ],
 "metadata": {
  "kernelspec": {
   "display_name": "base",
   "language": "python",
   "name": "python3"
  },
  "language_info": {
   "codemirror_mode": {
    "name": "ipython",
    "version": 3
   },
   "file_extension": ".py",
   "mimetype": "text/x-python",
   "name": "python",
   "nbconvert_exporter": "python",
   "pygments_lexer": "ipython3",
   "version": "3.8.8"
  },
  "orig_nbformat": 4
 },
 "nbformat": 4,
 "nbformat_minor": 2
}
